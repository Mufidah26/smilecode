{
  "nbformat": 4,
  "nbformat_minor": 0,
  "metadata": {
    "colab": {
      "provenance": [],
      "include_colab_link": true
    },
    "kernelspec": {
      "name": "python3",
      "display_name": "Python 3"
    },
    "language_info": {
      "name": "python"
    }
  },
  "cells": [
    {
      "cell_type": "markdown",
      "metadata": {
        "id": "view-in-github",
        "colab_type": "text"
      },
      "source": [
        "<a href=\"https://colab.research.google.com/github/Mufidah26/smilecode/blob/main/P8_Array_Python_AGB.ipynb\" target=\"_parent\"><img src=\"https://colab.research.google.com/assets/colab-badge.svg\" alt=\"Open In Colab\"/></a>"
      ]
    },
    {
      "cell_type": "markdown",
      "source": [
        "**FUNDAMENTAL ARRAY**"
      ],
      "metadata": {
        "id": "wfgZxt5q_TzV"
      }
    },
    {
      "cell_type": "code",
      "execution_count": null,
      "metadata": {
        "id": "9TB1ZwTr_DYz"
      },
      "outputs": [],
      "source": [
        "arr = [10, 20, 30, 40]"
      ]
    },
    {
      "cell_type": "code",
      "source": [
        "list_numbers = [1, 2, 3, 4, 5]"
      ],
      "metadata": {
        "id": "Qye2YU0__OFZ"
      },
      "execution_count": null,
      "outputs": []
    },
    {
      "cell_type": "code",
      "source": [
        "list_numbers[0] = 100  # Mengubah elemen pertama menjadi 100"
      ],
      "metadata": {
        "id": "Fl3348wK_Rjh"
      },
      "execution_count": null,
      "outputs": []
    },
    {
      "cell_type": "markdown",
      "source": [
        "**MENDEKLARASIKAN ARRAY**"
      ],
      "metadata": {
        "id": "vu07k-Tj_cp9"
      }
    },
    {
      "cell_type": "code",
      "source": [
        "arr = [1, 2, 3, 4, 5]"
      ],
      "metadata": {
        "id": "Z7JTYURvCO49"
      },
      "execution_count": null,
      "outputs": []
    },
    {
      "cell_type": "code",
      "source": [
        "data = [1, 2, 3, 'hello', 5.5]  # array dengan elemen tipe berbeda"
      ],
      "metadata": {
        "id": "OKBRVSaA_f6u"
      },
      "execution_count": null,
      "outputs": []
    },
    {
      "cell_type": "code",
      "source": [
        "arr = [0] * 5  # Membuat array dengan 5 elemen, semua berisi 0"
      ],
      "metadata": {
        "id": "2b5ZTBRJ_isp"
      },
      "execution_count": null,
      "outputs": []
    },
    {
      "cell_type": "code",
      "source": [
        "arr = [10, 20, 30, 40]\n",
        "print(arr[0])  # Output: 10 (indeks pertama)\n",
        "print(arr[3])  # Output: 40 (indeks terakhir)"
      ],
      "metadata": {
        "colab": {
          "base_uri": "https://localhost:8080/"
        },
        "id": "GHWtWUHi_knC",
        "outputId": "dc142b45-7102-46d8-a7d9-8ab7258204a9"
      },
      "execution_count": null,
      "outputs": [
        {
          "output_type": "stream",
          "name": "stdout",
          "text": [
            "10\n",
            "40\n"
          ]
        }
      ]
    },
    {
      "cell_type": "markdown",
      "source": [
        "**PEMROSESAN SEKUENSIAL ARRAY**"
      ],
      "metadata": {
        "id": "fQEuwUc3_mrE"
      }
    },
    {
      "cell_type": "code",
      "source": [
        "arr = [10, 20, 30, 40, 50]\n",
        "for elemen in arr:\n",
        "    print(elemen)\n"
      ],
      "metadata": {
        "colab": {
          "base_uri": "https://localhost:8080/"
        },
        "id": "7ZE8ZrrE_qmV",
        "outputId": "b5093213-3273-445d-ff08-3c3005558e96"
      },
      "execution_count": null,
      "outputs": [
        {
          "output_type": "stream",
          "name": "stdout",
          "text": [
            "10\n",
            "20\n",
            "30\n",
            "40\n",
            "50\n"
          ]
        }
      ]
    },
    {
      "cell_type": "code",
      "source": [
        "total = 0\n",
        "for elemen in arr:\n",
        "    total += elemen\n",
        "print(total)  # Output: 150\n"
      ],
      "metadata": {
        "colab": {
          "base_uri": "https://localhost:8080/"
        },
        "id": "sWK3Hdb9_tzN",
        "outputId": "293b7916-7953-489c-93b8-37a8a1172900"
      },
      "execution_count": null,
      "outputs": [
        {
          "output_type": "stream",
          "name": "stdout",
          "text": [
            "150\n"
          ]
        }
      ]
    },
    {
      "cell_type": "code",
      "source": [
        "# P8\n",
        "# Membuat array dengan angka acak\n",
        "arr = [26, 4, 8, 20, 34, 9, 35, 100, 15]\n",
        "arr"
      ],
      "metadata": {
        "id": "JYrpe-Jpclu2",
        "outputId": "8c80ee5f-d89c-4de2-887a-464f8c4edf8d",
        "colab": {
          "base_uri": "https://localhost:8080/"
        }
      },
      "execution_count": 11,
      "outputs": [
        {
          "output_type": "execute_result",
          "data": {
            "text/plain": [
              "[26, 4, 8, 20, 34, 9, 35, 100, 15]"
            ]
          },
          "metadata": {},
          "execution_count": 11
        }
      ]
    },
    {
      "cell_type": "code",
      "source": [
        "# 1. Nilai maksimum\n",
        "nilai_maks = max(arr)\n",
        "print (\"Nilai Maksimum:\", nilai_maks)"
      ],
      "metadata": {
        "id": "D_UXO90sdWHk",
        "outputId": "7dbb0857-7e14-485a-acc8-5f67d5c4dbd2",
        "colab": {
          "base_uri": "https://localhost:8080/"
        }
      },
      "execution_count": 12,
      "outputs": [
        {
          "output_type": "stream",
          "name": "stdout",
          "text": [
            "Nilai Maksimum: 100\n"
          ]
        }
      ]
    },
    {
      "cell_type": "code",
      "source": [
        "# 2. Nilai Minimum\n",
        "nilai_min = min(arr)\n",
        "print (\"Nilai Minimum:\",nilai_min)"
      ],
      "metadata": {
        "id": "YsGWBtb8d6OV",
        "outputId": "bb199936-d0e6-45b6-d865-cde7bfb3ede4",
        "colab": {
          "base_uri": "https://localhost:8080/"
        }
      },
      "execution_count": 10,
      "outputs": [
        {
          "output_type": "stream",
          "name": "stdout",
          "text": [
            "Nilai Minimum: 7\n"
          ]
        }
      ]
    },
    {
      "cell_type": "code",
      "source": [
        "# 3. Hasil penjumlahan seluruh elemen\n",
        "hasil_penjumlahan = sum(arr)\n",
        "print (\"Hasil Penjumlahan:\",hasil_penjumlahan)\n"
      ],
      "metadata": {
        "id": "NvRmkFE5fCSV",
        "outputId": "a953b34a-1ee7-4c04-ac4e-f96226276221",
        "colab": {
          "base_uri": "https://localhost:8080/"
        }
      },
      "execution_count": 13,
      "outputs": [
        {
          "output_type": "stream",
          "name": "stdout",
          "text": [
            "Hasil Penjumlahan: 251\n"
          ]
        }
      ]
    },
    {
      "cell_type": "code",
      "source": [
        "# 4. Jumlah seluruh elemen\n",
        "jumlah_arr = len(arr)\n",
        "print(\"Jumlah Elemen:, jumlah_arr\")"
      ],
      "metadata": {
        "id": "y0NL75cGf52E",
        "outputId": "59b59ae3-b7ae-40ea-adb4-9f5a14e9f04f",
        "colab": {
          "base_uri": "https://localhost:8080/"
        }
      },
      "execution_count": 14,
      "outputs": [
        {
          "output_type": "stream",
          "name": "stdout",
          "text": [
            "Jumlah Elemen:, jumlah_arr\n"
          ]
        }
      ]
    },
    {
      "cell_type": "code",
      "source": [
        "# 5. Rata rata seluruh elemen\n",
        "rata_rata = hasil_penjumlahan / jumlah_arr\n",
        "print(\"Rata-rata:\", rata_rata)"
      ],
      "metadata": {
        "id": "SXnlkOZ0gUlt",
        "outputId": "b711b939-e5f0-4233-98fe-18369e6ab65e",
        "colab": {
          "base_uri": "https://localhost:8080/"
        }
      },
      "execution_count": 15,
      "outputs": [
        {
          "output_type": "stream",
          "name": "stdout",
          "text": [
            "Rata-rata: 27.88888888888889\n"
          ]
        }
      ]
    }
  ]
}